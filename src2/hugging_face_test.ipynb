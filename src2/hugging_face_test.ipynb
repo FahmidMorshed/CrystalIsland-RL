{
 "cells": [
  {
   "cell_type": "code",
   "execution_count": 1,
   "metadata": {
    "collapsed": true
   },
   "outputs": [
    {
     "name": "stderr",
     "output_type": "stream",
     "text": [
      "2022-12-27 16:43:30.344601: I tensorflow/core/platform/cpu_feature_guard.cc:193] This TensorFlow binary is optimized with oneAPI Deep Neural Network Library (oneDNN) to use the following CPU instructions in performance-critical operations:  SSE4.1 SSE4.2 AVX AVX2 FMA\n",
      "To enable them in other operations, rebuild TensorFlow with the appropriate compiler flags.\n"
     ]
    },
    {
     "data": {
      "text/plain": "        episode  step                                              state  \\\n0      100-0001     0  [0.0, 0.0, 0.0, 0.0, 0.0, 0.0, 0.0, 0.0, 0.0, ...   \n1      100-0001     1  [0.0, 0.0, 0.0, 0.0, 1.0, 0.0, 0.0, 0.0, 0.0, ...   \n2      100-0001     2  [0.0, 0.0, 0.0, 0.0, 1.0, 0.0, 0.0, 0.0, 0.0, ...   \n3      100-0001     3  [0.0, 0.0, 0.0, 0.0, 1.0, 0.0, 0.0, 0.0, 0.0, ...   \n4      100-0001     4  [0.0, 0.0, 0.0, 0.0, 1.0, 0.0, 0.0, 0.0, 0.0, ...   \n...         ...   ...                                                ...   \n65569  100-0828   197  [1.0, 1.0, 1.0, 1.0, 1.0, 1.0, 1.0, 1.0, 1.0, ...   \n65570  100-0828   198  [1.0, 1.0, 1.0, 1.0, 1.0, 1.0, 1.0, 1.0, 1.0, ...   \n65571  100-0828   199  [1.0, 1.0, 1.0, 1.0, 1.0, 1.0, 1.0, 1.0, 1.0, ...   \n65572  100-0828   200  [1.0, 1.0, 1.0, 1.0, 1.0, 1.0, 1.0, 1.0, 1.0, ...   \n65573  100-0828   201  [1.0, 1.0, 1.0, 1.0, 1.0, 1.0, 1.0, 1.0, 1.0, ...   \n\n       action  reward                                         next_state  \\\n0           4     0.0  [0.0, 0.0, 0.0, 0.0, 1.0, 0.0, 0.0, 0.0, 0.0, ...   \n1          11     0.0  [0.0, 0.0, 0.0, 0.0, 1.0, 0.0, 0.0, 0.0, 0.0, ...   \n2          11     0.0  [0.0, 0.0, 0.0, 0.0, 1.0, 0.0, 0.0, 0.0, 0.0, ...   \n3          11     0.0  [0.0, 0.0, 0.0, 0.0, 1.0, 0.0, 0.0, 0.0, 0.0, ...   \n4          11     0.0  [0.0, 0.0, 0.0, 0.0, 1.0, 0.0, 0.0, 0.0, 0.0, ...   \n...       ...     ...                                                ...   \n65569      15     0.0  [1.0, 1.0, 1.0, 1.0, 1.0, 1.0, 1.0, 1.0, 1.0, ...   \n65570      11     0.0  [1.0, 1.0, 1.0, 1.0, 1.0, 1.0, 1.0, 1.0, 1.0, ...   \n65571       4     0.0  [1.0, 1.0, 1.0, 1.0, 1.0, 1.0, 1.0, 1.0, 1.0, ...   \n65572      18     0.0  [1.0, 1.0, 1.0, 1.0, 1.0, 1.0, 1.0, 1.0, 1.0, ...   \n65573      19   100.0  [1.0, 1.0, 1.0, 1.0, 1.0, 1.0, 1.0, 1.0, 1.0, ...   \n\n        done    nlg                                               info  \\\n0      False    0.0                      {'extra': None, 'end': False}   \n1      False    0.0  {'extra': 's_post_scientific_method', 'end': F...   \n2      False    0.0  {'extra': 's_post_scientific_method', 'end': F...   \n3      False    0.0  {'extra': 's_post_scientific_method', 'end': F...   \n4      False    0.0  {'extra': 's_post_prevention_treatment', 'end'...   \n...      ...    ...                                                ...   \n65569  False    0.0                      {'extra': None, 'end': False}   \n65570  False    0.0  {'extra': 's_post_prevention_treatment', 'end'...   \n65571  False    0.0                      {'extra': None, 'end': False}   \n65572  False    0.0                         {'extra': 0, 'end': False}   \n65573   True  100.0                      {'extra': None, 'end': False}   \n\n                                                    text  \\\n0      I am a female. I have low pretest and low game...   \n1      I am a female. I have low pretest and low game...   \n2      I am a female. I have low pretest and low game...   \n3      I am a female. I have low pretest and low game...   \n4      I am a female. I have low pretest and low game...   \n...                                                  ...   \n65569  I am a male. I have low pretest and high game ...   \n65570  I am a male. I have low pretest and high game ...   \n65571  I am a male. I have low pretest and high game ...   \n65572  I am a male. I have low pretest and high game ...   \n65573  I am a male. I have low pretest and high game ...   \n\n                                  label  \n0               I want to speak to kim.  \n1              I want to read a poster.  \n2              I want to read a poster.  \n3              I want to read a poster.  \n4              I want to read a poster.  \n...                                 ...  \n65569  I want to work on the worksheet.  \n65570          I want to read a poster.  \n65571           I want to speak to kim.  \n65572    I want to submit my worksheet.  \n65573         I want to close the game.  \n\n[65574 rows x 11 columns]",
      "text/html": "<div>\n<style scoped>\n    .dataframe tbody tr th:only-of-type {\n        vertical-align: middle;\n    }\n\n    .dataframe tbody tr th {\n        vertical-align: top;\n    }\n\n    .dataframe thead th {\n        text-align: right;\n    }\n</style>\n<table border=\"1\" class=\"dataframe\">\n  <thead>\n    <tr style=\"text-align: right;\">\n      <th></th>\n      <th>episode</th>\n      <th>step</th>\n      <th>state</th>\n      <th>action</th>\n      <th>reward</th>\n      <th>next_state</th>\n      <th>done</th>\n      <th>nlg</th>\n      <th>info</th>\n      <th>text</th>\n      <th>label</th>\n    </tr>\n  </thead>\n  <tbody>\n    <tr>\n      <th>0</th>\n      <td>100-0001</td>\n      <td>0</td>\n      <td>[0.0, 0.0, 0.0, 0.0, 0.0, 0.0, 0.0, 0.0, 0.0, ...</td>\n      <td>4</td>\n      <td>0.0</td>\n      <td>[0.0, 0.0, 0.0, 0.0, 1.0, 0.0, 0.0, 0.0, 0.0, ...</td>\n      <td>False</td>\n      <td>0.0</td>\n      <td>{'extra': None, 'end': False}</td>\n      <td>I am a female. I have low pretest and low game...</td>\n      <td>I want to speak to kim.</td>\n    </tr>\n    <tr>\n      <th>1</th>\n      <td>100-0001</td>\n      <td>1</td>\n      <td>[0.0, 0.0, 0.0, 0.0, 1.0, 0.0, 0.0, 0.0, 0.0, ...</td>\n      <td>11</td>\n      <td>0.0</td>\n      <td>[0.0, 0.0, 0.0, 0.0, 1.0, 0.0, 0.0, 0.0, 0.0, ...</td>\n      <td>False</td>\n      <td>0.0</td>\n      <td>{'extra': 's_post_scientific_method', 'end': F...</td>\n      <td>I am a female. I have low pretest and low game...</td>\n      <td>I want to read a poster.</td>\n    </tr>\n    <tr>\n      <th>2</th>\n      <td>100-0001</td>\n      <td>2</td>\n      <td>[0.0, 0.0, 0.0, 0.0, 1.0, 0.0, 0.0, 0.0, 0.0, ...</td>\n      <td>11</td>\n      <td>0.0</td>\n      <td>[0.0, 0.0, 0.0, 0.0, 1.0, 0.0, 0.0, 0.0, 0.0, ...</td>\n      <td>False</td>\n      <td>0.0</td>\n      <td>{'extra': 's_post_scientific_method', 'end': F...</td>\n      <td>I am a female. I have low pretest and low game...</td>\n      <td>I want to read a poster.</td>\n    </tr>\n    <tr>\n      <th>3</th>\n      <td>100-0001</td>\n      <td>3</td>\n      <td>[0.0, 0.0, 0.0, 0.0, 1.0, 0.0, 0.0, 0.0, 0.0, ...</td>\n      <td>11</td>\n      <td>0.0</td>\n      <td>[0.0, 0.0, 0.0, 0.0, 1.0, 0.0, 0.0, 0.0, 0.0, ...</td>\n      <td>False</td>\n      <td>0.0</td>\n      <td>{'extra': 's_post_scientific_method', 'end': F...</td>\n      <td>I am a female. I have low pretest and low game...</td>\n      <td>I want to read a poster.</td>\n    </tr>\n    <tr>\n      <th>4</th>\n      <td>100-0001</td>\n      <td>4</td>\n      <td>[0.0, 0.0, 0.0, 0.0, 1.0, 0.0, 0.0, 0.0, 0.0, ...</td>\n      <td>11</td>\n      <td>0.0</td>\n      <td>[0.0, 0.0, 0.0, 0.0, 1.0, 0.0, 0.0, 0.0, 0.0, ...</td>\n      <td>False</td>\n      <td>0.0</td>\n      <td>{'extra': 's_post_prevention_treatment', 'end'...</td>\n      <td>I am a female. I have low pretest and low game...</td>\n      <td>I want to read a poster.</td>\n    </tr>\n    <tr>\n      <th>...</th>\n      <td>...</td>\n      <td>...</td>\n      <td>...</td>\n      <td>...</td>\n      <td>...</td>\n      <td>...</td>\n      <td>...</td>\n      <td>...</td>\n      <td>...</td>\n      <td>...</td>\n      <td>...</td>\n    </tr>\n    <tr>\n      <th>65569</th>\n      <td>100-0828</td>\n      <td>197</td>\n      <td>[1.0, 1.0, 1.0, 1.0, 1.0, 1.0, 1.0, 1.0, 1.0, ...</td>\n      <td>15</td>\n      <td>0.0</td>\n      <td>[1.0, 1.0, 1.0, 1.0, 1.0, 1.0, 1.0, 1.0, 1.0, ...</td>\n      <td>False</td>\n      <td>0.0</td>\n      <td>{'extra': None, 'end': False}</td>\n      <td>I am a male. I have low pretest and high game ...</td>\n      <td>I want to work on the worksheet.</td>\n    </tr>\n    <tr>\n      <th>65570</th>\n      <td>100-0828</td>\n      <td>198</td>\n      <td>[1.0, 1.0, 1.0, 1.0, 1.0, 1.0, 1.0, 1.0, 1.0, ...</td>\n      <td>11</td>\n      <td>0.0</td>\n      <td>[1.0, 1.0, 1.0, 1.0, 1.0, 1.0, 1.0, 1.0, 1.0, ...</td>\n      <td>False</td>\n      <td>0.0</td>\n      <td>{'extra': 's_post_prevention_treatment', 'end'...</td>\n      <td>I am a male. I have low pretest and high game ...</td>\n      <td>I want to read a poster.</td>\n    </tr>\n    <tr>\n      <th>65571</th>\n      <td>100-0828</td>\n      <td>199</td>\n      <td>[1.0, 1.0, 1.0, 1.0, 1.0, 1.0, 1.0, 1.0, 1.0, ...</td>\n      <td>4</td>\n      <td>0.0</td>\n      <td>[1.0, 1.0, 1.0, 1.0, 1.0, 1.0, 1.0, 1.0, 1.0, ...</td>\n      <td>False</td>\n      <td>0.0</td>\n      <td>{'extra': None, 'end': False}</td>\n      <td>I am a male. I have low pretest and high game ...</td>\n      <td>I want to speak to kim.</td>\n    </tr>\n    <tr>\n      <th>65572</th>\n      <td>100-0828</td>\n      <td>200</td>\n      <td>[1.0, 1.0, 1.0, 1.0, 1.0, 1.0, 1.0, 1.0, 1.0, ...</td>\n      <td>18</td>\n      <td>0.0</td>\n      <td>[1.0, 1.0, 1.0, 1.0, 1.0, 1.0, 1.0, 1.0, 1.0, ...</td>\n      <td>False</td>\n      <td>0.0</td>\n      <td>{'extra': 0, 'end': False}</td>\n      <td>I am a male. I have low pretest and high game ...</td>\n      <td>I want to submit my worksheet.</td>\n    </tr>\n    <tr>\n      <th>65573</th>\n      <td>100-0828</td>\n      <td>201</td>\n      <td>[1.0, 1.0, 1.0, 1.0, 1.0, 1.0, 1.0, 1.0, 1.0, ...</td>\n      <td>19</td>\n      <td>100.0</td>\n      <td>[1.0, 1.0, 1.0, 1.0, 1.0, 1.0, 1.0, 1.0, 1.0, ...</td>\n      <td>True</td>\n      <td>100.0</td>\n      <td>{'extra': None, 'end': False}</td>\n      <td>I am a male. I have low pretest and high game ...</td>\n      <td>I want to close the game.</td>\n    </tr>\n  </tbody>\n</table>\n<p>65574 rows × 11 columns</p>\n</div>"
     },
     "execution_count": 1,
     "metadata": {},
     "output_type": "execute_result"
    }
   ],
   "source": [
    "from src import utils\n",
    "import pandas as pd\n",
    "\n",
    "df = pd.read_pickle('../processed_data/student_trajectories.pkl')\n",
    "df['text'] = df.apply(lambda x: utils.state_string(x['state']), axis=1)\n",
    "df['label'] = df.apply(lambda x: utils.action_string(x['action']), axis=1)\n",
    "df"
   ]
  },
  {
   "cell_type": "code",
   "execution_count": 2,
   "outputs": [],
   "source": [
    "from datasets import Dataset, DatasetDict\n",
    "from sklearn.model_selection import train_test_split\n",
    "d = df[['text', 'label']].copy()\n",
    "\n",
    "d_train, d_test = train_test_split(d, shuffle=True, random_state=0, stratify=d['label'], test_size=.2)\n",
    "d_train.to_csv('../temp/state_str_act_train.csv', index=False)\n",
    "d_test.to_csv('../temp/state_str_act_test.csv', index=False)\n",
    "\n",
    "ds_train = Dataset.from_pandas(d_train, preserve_index=False)\n",
    "ds_test = Dataset.from_pandas(d_test, preserve_index=False)\n",
    "dataset = DatasetDict({'train': ds_train, 'test': ds_test})\n"
   ],
   "metadata": {
    "collapsed": false
   }
  },
  {
   "cell_type": "code",
   "execution_count": 2,
   "outputs": [],
   "source": [],
   "metadata": {
    "collapsed": false
   }
  },
  {
   "cell_type": "markdown",
   "source": [
    "# inference"
   ],
   "metadata": {
    "collapsed": false
   }
  },
  {
   "cell_type": "code",
   "execution_count": 4,
   "outputs": [
    {
     "name": "stderr",
     "output_type": "stream",
     "text": [
      "Special tokens have been added in the vocabulary, make sure the associated word embeddings are fine-tuned or trained.\n"
     ]
    },
    {
     "data": {
      "text/plain": "Embedding(50259, 768)"
     },
     "execution_count": 4,
     "metadata": {},
     "output_type": "execute_result"
    }
   ],
   "source": [
    "import pandas as pd\n",
    "from datasets import Dataset, DatasetDict\n",
    "from transformers import AutoTokenizer, GPT2Tokenizer, GPT2LMHeadModel\n",
    "from transformers import AutoModelForSequenceClassification\n",
    "\n",
    "df_train = pd.read_csv('../temp/state_str_act_train.csv')\n",
    "df_test = pd.read_csv('../temp/state_str_act_test.csv')\n",
    "X_train, X_test, y_train, y_test = df_train['text'].tolist(), df_test['text'].tolist(), df_train['label'].tolist(), df_test['label'].tolist()\n",
    "test_dataset = (X_test, y_test)\n",
    "\n",
    "# load tokenizer and model\n",
    "tokenizer = GPT2Tokenizer.from_pretrained(\"gpt2\", bos_token='<|startoftext|>',\n",
    "                                          eos_token='<|endoftext|>', pad_token='<|pad|>')\n",
    "model = GPT2LMHeadModel .from_pretrained(\"../huggingfaceckpt/gpt2-epoch-2\")\n",
    "model.resize_token_embeddings(len(tokenizer))"
   ],
   "metadata": {
    "collapsed": false
   }
  },
  {
   "cell_type": "code",
   "execution_count": 32,
   "outputs": [
    {
     "data": {
      "text/plain": "       Unnamed: 0                                      original_text  \\\n0               0  I am a male. I have high pretest and high game...   \n1               1  I am a female. I have high pretest and low gam...   \n2               2  I am a male. I have high pretest and high game...   \n3               3  I am a male. I have low pretest and high game ...   \n4               4  I am a male. I have low pretest and high game ...   \n...           ...                                                ...   \n13110       13110  I am a female. I have high pretest and high ga...   \n13111       13111  I am a male. I have low pretest and high game ...   \n13112       13112  I am a male. I have high pretest and low game ...   \n13113       13113  I am a female. I have high pretest and high ga...   \n13114       13114  I am a female. I have low pretest and high gam...   \n\n                   predicted_label                original_label  \\\n0      I want to pickup an object.      I want to speak to ford.   \n1         I want to read a poster.  I want to work on the label.   \n2         I want to read a poster.  I want to work on the label.   \n3         I want to read a poster.   I want to pickup an object.   \n4      I want to pickup an object.   I want to pickup an object.   \n...                            ...                           ...   \n13110     I want to read a poster.      I want to read a poster.   \n13111  I want to pickup an object.      I want to read a poster.   \n13112     I want to read a poster.      I want to read a poster.   \n13113  I want to pickup an object.   I want to pickup an object.   \n13114   I want to view my note(s).    I want to speak to robert.   \n\n                                          predicted_text  \n0      Current State: I am a male. I have high pretes...  \n1      Current State: I am a female. I have high pret...  \n2      Current State: I am a male. I have high pretes...  \n3      Current State: I am a male. I have low pretest...  \n4      Current State: I am a male. I have low pretest...  \n...                                                  ...  \n13110  Current State: I am a female. I have high pret...  \n13111  Current State: I am a male. I have low pretest...  \n13112  Current State: I am a male. I have high pretes...  \n13113  Current State: I am a female. I have high pret...  \n13114  Current State: I am a female. I have low prete...  \n\n[13115 rows x 5 columns]",
      "text/html": "<div>\n<style scoped>\n    .dataframe tbody tr th:only-of-type {\n        vertical-align: middle;\n    }\n\n    .dataframe tbody tr th {\n        vertical-align: top;\n    }\n\n    .dataframe thead th {\n        text-align: right;\n    }\n</style>\n<table border=\"1\" class=\"dataframe\">\n  <thead>\n    <tr style=\"text-align: right;\">\n      <th></th>\n      <th>Unnamed: 0</th>\n      <th>original_text</th>\n      <th>predicted_label</th>\n      <th>original_label</th>\n      <th>predicted_text</th>\n    </tr>\n  </thead>\n  <tbody>\n    <tr>\n      <th>0</th>\n      <td>0</td>\n      <td>I am a male. I have high pretest and high game...</td>\n      <td>I want to pickup an object.</td>\n      <td>I want to speak to ford.</td>\n      <td>Current State: I am a male. I have high pretes...</td>\n    </tr>\n    <tr>\n      <th>1</th>\n      <td>1</td>\n      <td>I am a female. I have high pretest and low gam...</td>\n      <td>I want to read a poster.</td>\n      <td>I want to work on the label.</td>\n      <td>Current State: I am a female. I have high pret...</td>\n    </tr>\n    <tr>\n      <th>2</th>\n      <td>2</td>\n      <td>I am a male. I have high pretest and high game...</td>\n      <td>I want to read a poster.</td>\n      <td>I want to work on the label.</td>\n      <td>Current State: I am a male. I have high pretes...</td>\n    </tr>\n    <tr>\n      <th>3</th>\n      <td>3</td>\n      <td>I am a male. I have low pretest and high game ...</td>\n      <td>I want to read a poster.</td>\n      <td>I want to pickup an object.</td>\n      <td>Current State: I am a male. I have low pretest...</td>\n    </tr>\n    <tr>\n      <th>4</th>\n      <td>4</td>\n      <td>I am a male. I have low pretest and high game ...</td>\n      <td>I want to pickup an object.</td>\n      <td>I want to pickup an object.</td>\n      <td>Current State: I am a male. I have low pretest...</td>\n    </tr>\n    <tr>\n      <th>...</th>\n      <td>...</td>\n      <td>...</td>\n      <td>...</td>\n      <td>...</td>\n      <td>...</td>\n    </tr>\n    <tr>\n      <th>13110</th>\n      <td>13110</td>\n      <td>I am a female. I have high pretest and high ga...</td>\n      <td>I want to read a poster.</td>\n      <td>I want to read a poster.</td>\n      <td>Current State: I am a female. I have high pret...</td>\n    </tr>\n    <tr>\n      <th>13111</th>\n      <td>13111</td>\n      <td>I am a male. I have low pretest and high game ...</td>\n      <td>I want to pickup an object.</td>\n      <td>I want to read a poster.</td>\n      <td>Current State: I am a male. I have low pretest...</td>\n    </tr>\n    <tr>\n      <th>13112</th>\n      <td>13112</td>\n      <td>I am a male. I have high pretest and low game ...</td>\n      <td>I want to read a poster.</td>\n      <td>I want to read a poster.</td>\n      <td>Current State: I am a male. I have high pretes...</td>\n    </tr>\n    <tr>\n      <th>13113</th>\n      <td>13113</td>\n      <td>I am a female. I have high pretest and high ga...</td>\n      <td>I want to pickup an object.</td>\n      <td>I want to pickup an object.</td>\n      <td>Current State: I am a female. I have high pret...</td>\n    </tr>\n    <tr>\n      <th>13114</th>\n      <td>13114</td>\n      <td>I am a female. I have low pretest and high gam...</td>\n      <td>I want to view my note(s).</td>\n      <td>I want to speak to robert.</td>\n      <td>Current State: I am a female. I have low prete...</td>\n    </tr>\n  </tbody>\n</table>\n<p>13115 rows × 5 columns</p>\n</div>"
     },
     "execution_count": 32,
     "metadata": {},
     "output_type": "execute_result"
    }
   ],
   "source": [
    "import pandas as pd\n",
    "from sklearn.metrics import f1_score, accuracy_score\n",
    "df_r = pd.read_csv('../huggingfaceckpt/gpt2-epoch-2/results.csv')\n",
    "df_r"
   ],
   "metadata": {
    "collapsed": false
   }
  },
  {
   "cell_type": "code",
   "execution_count": 33,
   "outputs": [
    {
     "data": {
      "text/plain": "                               label  original_text  predicted_text\n0        I want to get new test kit.            401             139\n1        I want to pickup an object.           3154            4161\n2             I want to read a book.            315             156\n3           I want to read a poster.           4074            5207\n4          I want to speak to bryce.            167             140\n5          I want to speak to elise.            408             437\n6          I want to speak to extra.            283             334\n7           I want to speak to ford.            118              50\n8            I want to speak to kim.            356             231\n9        I want to speak to quentin.            217             151\n10        I want to speak to robert.            134             115\n11        I want to speak to teresa.            177             139\n12    I want to submit my worksheet.            152               6\n13            I want to take a note.            362              37\n14         I want to test an object.            743             587\n15       I want to use the computer.            213              27\n16        I want to view my note(s).            445             247\n17      I want to work on the label.            627             575\n18  I want to work on the worksheet.            713             375",
      "text/html": "<div>\n<style scoped>\n    .dataframe tbody tr th:only-of-type {\n        vertical-align: middle;\n    }\n\n    .dataframe tbody tr th {\n        vertical-align: top;\n    }\n\n    .dataframe thead th {\n        text-align: right;\n    }\n</style>\n<table border=\"1\" class=\"dataframe\">\n  <thead>\n    <tr style=\"text-align: right;\">\n      <th></th>\n      <th>label</th>\n      <th>original_text</th>\n      <th>predicted_text</th>\n    </tr>\n  </thead>\n  <tbody>\n    <tr>\n      <th>0</th>\n      <td>I want to get new test kit.</td>\n      <td>401</td>\n      <td>139</td>\n    </tr>\n    <tr>\n      <th>1</th>\n      <td>I want to pickup an object.</td>\n      <td>3154</td>\n      <td>4161</td>\n    </tr>\n    <tr>\n      <th>2</th>\n      <td>I want to read a book.</td>\n      <td>315</td>\n      <td>156</td>\n    </tr>\n    <tr>\n      <th>3</th>\n      <td>I want to read a poster.</td>\n      <td>4074</td>\n      <td>5207</td>\n    </tr>\n    <tr>\n      <th>4</th>\n      <td>I want to speak to bryce.</td>\n      <td>167</td>\n      <td>140</td>\n    </tr>\n    <tr>\n      <th>5</th>\n      <td>I want to speak to elise.</td>\n      <td>408</td>\n      <td>437</td>\n    </tr>\n    <tr>\n      <th>6</th>\n      <td>I want to speak to extra.</td>\n      <td>283</td>\n      <td>334</td>\n    </tr>\n    <tr>\n      <th>7</th>\n      <td>I want to speak to ford.</td>\n      <td>118</td>\n      <td>50</td>\n    </tr>\n    <tr>\n      <th>8</th>\n      <td>I want to speak to kim.</td>\n      <td>356</td>\n      <td>231</td>\n    </tr>\n    <tr>\n      <th>9</th>\n      <td>I want to speak to quentin.</td>\n      <td>217</td>\n      <td>151</td>\n    </tr>\n    <tr>\n      <th>10</th>\n      <td>I want to speak to robert.</td>\n      <td>134</td>\n      <td>115</td>\n    </tr>\n    <tr>\n      <th>11</th>\n      <td>I want to speak to teresa.</td>\n      <td>177</td>\n      <td>139</td>\n    </tr>\n    <tr>\n      <th>12</th>\n      <td>I want to submit my worksheet.</td>\n      <td>152</td>\n      <td>6</td>\n    </tr>\n    <tr>\n      <th>13</th>\n      <td>I want to take a note.</td>\n      <td>362</td>\n      <td>37</td>\n    </tr>\n    <tr>\n      <th>14</th>\n      <td>I want to test an object.</td>\n      <td>743</td>\n      <td>587</td>\n    </tr>\n    <tr>\n      <th>15</th>\n      <td>I want to use the computer.</td>\n      <td>213</td>\n      <td>27</td>\n    </tr>\n    <tr>\n      <th>16</th>\n      <td>I want to view my note(s).</td>\n      <td>445</td>\n      <td>247</td>\n    </tr>\n    <tr>\n      <th>17</th>\n      <td>I want to work on the label.</td>\n      <td>627</td>\n      <td>575</td>\n    </tr>\n    <tr>\n      <th>18</th>\n      <td>I want to work on the worksheet.</td>\n      <td>713</td>\n      <td>375</td>\n    </tr>\n  </tbody>\n</table>\n</div>"
     },
     "execution_count": 33,
     "metadata": {},
     "output_type": "execute_result"
    }
   ],
   "source": [
    "d1 = df_r.groupby(['original_label']).count()['original_text'].reset_index()\n",
    "d2 = df_r.groupby(['predicted_label']).count()['predicted_text'].reset_index()\n",
    "d1.rename(columns={'original_label': 'label'}, inplace=True)\n",
    "d2.rename(columns={'predicted_label': 'label'}, inplace=True)\n",
    "d1.merge(d2, on='label')"
   ],
   "metadata": {
    "collapsed": false
   }
  },
  {
   "cell_type": "code",
   "execution_count": 34,
   "outputs": [
    {
     "data": {
      "text/plain": "       Unnamed: 0                                      original_text  \\\n0               0  I am a male. I have high pretest and high game...   \n1               1  I am a female. I have high pretest and low gam...   \n2               2  I am a male. I have high pretest and high game...   \n3               3  I am a male. I have low pretest and high game ...   \n4               4  I am a male. I have low pretest and high game ...   \n...           ...                                                ...   \n13110       13110  I am a female. I have high pretest and high ga...   \n13111       13111  I am a male. I have low pretest and high game ...   \n13112       13112  I am a male. I have high pretest and low game ...   \n13113       13113  I am a female. I have high pretest and high ga...   \n13114       13114  I am a female. I have low pretest and high gam...   \n\n                   predicted_label                original_label  \\\n0      I want to pickup an object.      I want to speak to ford.   \n1         I want to read a poster.  I want to work on the label.   \n2         I want to read a poster.  I want to work on the label.   \n3         I want to read a poster.   I want to pickup an object.   \n4      I want to pickup an object.   I want to pickup an object.   \n...                            ...                           ...   \n13110     I want to read a poster.      I want to read a poster.   \n13111  I want to pickup an object.      I want to read a poster.   \n13112     I want to read a poster.      I want to read a poster.   \n13113  I want to pickup an object.   I want to pickup an object.   \n13114   I want to view my note(s).    I want to speak to robert.   \n\n                                          predicted_text  \\\n0      Current State: I am a male. I have high pretes...   \n1      Current State: I am a female. I have high pret...   \n2      Current State: I am a male. I have high pretes...   \n3      Current State: I am a male. I have low pretest...   \n4      Current State: I am a male. I have low pretest...   \n...                                                  ...   \n13110  Current State: I am a female. I have high pret...   \n13111  Current State: I am a male. I have low pretest...   \n13112  Current State: I am a male. I have high pretes...   \n13113  Current State: I am a female. I have high pret...   \n13114  Current State: I am a female. I have low prete...   \n\n                          dummy  \n0      I want to read a poster.  \n1      I want to read a poster.  \n2      I want to read a poster.  \n3      I want to read a poster.  \n4      I want to read a poster.  \n...                         ...  \n13110  I want to read a poster.  \n13111  I want to read a poster.  \n13112  I want to read a poster.  \n13113  I want to read a poster.  \n13114  I want to read a poster.  \n\n[13115 rows x 6 columns]",
      "text/html": "<div>\n<style scoped>\n    .dataframe tbody tr th:only-of-type {\n        vertical-align: middle;\n    }\n\n    .dataframe tbody tr th {\n        vertical-align: top;\n    }\n\n    .dataframe thead th {\n        text-align: right;\n    }\n</style>\n<table border=\"1\" class=\"dataframe\">\n  <thead>\n    <tr style=\"text-align: right;\">\n      <th></th>\n      <th>Unnamed: 0</th>\n      <th>original_text</th>\n      <th>predicted_label</th>\n      <th>original_label</th>\n      <th>predicted_text</th>\n      <th>dummy</th>\n    </tr>\n  </thead>\n  <tbody>\n    <tr>\n      <th>0</th>\n      <td>0</td>\n      <td>I am a male. I have high pretest and high game...</td>\n      <td>I want to pickup an object.</td>\n      <td>I want to speak to ford.</td>\n      <td>Current State: I am a male. I have high pretes...</td>\n      <td>I want to read a poster.</td>\n    </tr>\n    <tr>\n      <th>1</th>\n      <td>1</td>\n      <td>I am a female. I have high pretest and low gam...</td>\n      <td>I want to read a poster.</td>\n      <td>I want to work on the label.</td>\n      <td>Current State: I am a female. I have high pret...</td>\n      <td>I want to read a poster.</td>\n    </tr>\n    <tr>\n      <th>2</th>\n      <td>2</td>\n      <td>I am a male. I have high pretest and high game...</td>\n      <td>I want to read a poster.</td>\n      <td>I want to work on the label.</td>\n      <td>Current State: I am a male. I have high pretes...</td>\n      <td>I want to read a poster.</td>\n    </tr>\n    <tr>\n      <th>3</th>\n      <td>3</td>\n      <td>I am a male. I have low pretest and high game ...</td>\n      <td>I want to read a poster.</td>\n      <td>I want to pickup an object.</td>\n      <td>Current State: I am a male. I have low pretest...</td>\n      <td>I want to read a poster.</td>\n    </tr>\n    <tr>\n      <th>4</th>\n      <td>4</td>\n      <td>I am a male. I have low pretest and high game ...</td>\n      <td>I want to pickup an object.</td>\n      <td>I want to pickup an object.</td>\n      <td>Current State: I am a male. I have low pretest...</td>\n      <td>I want to read a poster.</td>\n    </tr>\n    <tr>\n      <th>...</th>\n      <td>...</td>\n      <td>...</td>\n      <td>...</td>\n      <td>...</td>\n      <td>...</td>\n      <td>...</td>\n    </tr>\n    <tr>\n      <th>13110</th>\n      <td>13110</td>\n      <td>I am a female. I have high pretest and high ga...</td>\n      <td>I want to read a poster.</td>\n      <td>I want to read a poster.</td>\n      <td>Current State: I am a female. I have high pret...</td>\n      <td>I want to read a poster.</td>\n    </tr>\n    <tr>\n      <th>13111</th>\n      <td>13111</td>\n      <td>I am a male. I have low pretest and high game ...</td>\n      <td>I want to pickup an object.</td>\n      <td>I want to read a poster.</td>\n      <td>Current State: I am a male. I have low pretest...</td>\n      <td>I want to read a poster.</td>\n    </tr>\n    <tr>\n      <th>13112</th>\n      <td>13112</td>\n      <td>I am a male. I have high pretest and low game ...</td>\n      <td>I want to read a poster.</td>\n      <td>I want to read a poster.</td>\n      <td>Current State: I am a male. I have high pretes...</td>\n      <td>I want to read a poster.</td>\n    </tr>\n    <tr>\n      <th>13113</th>\n      <td>13113</td>\n      <td>I am a female. I have high pretest and high ga...</td>\n      <td>I want to pickup an object.</td>\n      <td>I want to pickup an object.</td>\n      <td>Current State: I am a female. I have high pret...</td>\n      <td>I want to read a poster.</td>\n    </tr>\n    <tr>\n      <th>13114</th>\n      <td>13114</td>\n      <td>I am a female. I have low pretest and high gam...</td>\n      <td>I want to view my note(s).</td>\n      <td>I want to speak to robert.</td>\n      <td>Current State: I am a female. I have low prete...</td>\n      <td>I want to read a poster.</td>\n    </tr>\n  </tbody>\n</table>\n<p>13115 rows × 6 columns</p>\n</div>"
     },
     "execution_count": 34,
     "metadata": {},
     "output_type": "execute_result"
    }
   ],
   "source": [
    "df_r['dummy'] = 'I want to read a poster.'\n",
    "df_r"
   ],
   "metadata": {
    "collapsed": false
   }
  },
  {
   "cell_type": "code",
   "execution_count": 50,
   "outputs": [
    {
     "name": "stdout",
     "output_type": "stream",
     "text": [
      "0.2578988611972149\n",
      "0.2829584445291651\n",
      "Majority\n",
      "0.14724926595391766\n",
      "0.3106366755623332\n",
      "                                      precision    recall  f1-score   support\n",
      "\n",
      "           I want to close the game.       0.00      0.00      0.00        56\n",
      "         I want to get new test kit.       0.14      0.05      0.07       401\n",
      "         I want to pickup an object.       0.32      0.43      0.37      3154\n",
      "              I want to read a book.       0.10      0.05      0.06       315\n",
      "            I want to read a poster.       0.35      0.45      0.39      4074\n",
      "           I want to speak to bryce.       0.05      0.04      0.05       167\n",
      "           I want to speak to elise.       0.05      0.05      0.05       408\n",
      "           I want to speak to extra.       0.05      0.06      0.06       283\n",
      "            I want to speak to ford.       0.04      0.02      0.02       118\n",
      "             I want to speak to kim.       0.08      0.05      0.06       356\n",
      "         I want to speak to quentin.       0.03      0.02      0.03       217\n",
      "          I want to speak to robert.       0.02      0.01      0.02       134\n",
      "          I want to speak to teresa.       0.02      0.02      0.02       177\n",
      "      I want to submit my worksheet.       0.67      0.03      0.05       152\n",
      "              I want to take a note.       0.16      0.02      0.03       362\n",
      "           I want to test an object.       0.21      0.17      0.19       743\n",
      "         I want to use the computer.       0.15      0.02      0.03       213\n",
      "I want to view my note 22.0 time(s).       0.00      0.00      0.00         0\n",
      "          I want to view my note(s).       0.18      0.10      0.13       445\n",
      "        I want to work on the label.       0.36      0.33      0.35       627\n",
      "    I want to work on the worksheet.       0.10      0.05      0.07       713\n",
      "\n",
      "                            accuracy                           0.28     13115\n",
      "                           macro avg       0.15      0.09      0.10     13115\n",
      "                        weighted avg       0.26      0.28      0.26     13115\n",
      "\n"
     ]
    }
   ],
   "source": [
    "print(f1_score(df_r['original_label'], df_r['predicted_label'], average='weighted'))\n",
    "print(accuracy_score(df_r['original_label'], df_r['predicted_label']))\n",
    "print(\"Majority\")\n",
    "print(f1_score(df_r['original_label'], df_r['dummy'], average='weighted'))\n",
    "print(accuracy_score(df_r['original_label'], df_r['dummy']))\n",
    "print(classification_report(df_r['original_label'], df_r['predicted_label'], zero_division=0))"
   ],
   "metadata": {
    "collapsed": false
   }
  },
  {
   "cell_type": "code",
   "execution_count": 49,
   "outputs": [
    {
     "name": "stdout",
     "output_type": "stream",
     "text": [
      "0.4148715056515326\n",
      "0.42554327106366757\n",
      "              precision    recall  f1-score   support\n",
      "\n",
      "           0       0.04      0.05      0.05       167\n",
      "           1       0.07      0.10      0.08       408\n",
      "           2       0.14      0.17      0.15       283\n",
      "           3       0.05      0.06      0.06       118\n",
      "           4       0.10      0.09      0.10       356\n",
      "           5       0.05      0.05      0.05       217\n",
      "           6       0.07      0.07      0.07       134\n",
      "           7       0.06      0.07      0.06       177\n",
      "           8       0.56      0.69      0.61      3154\n",
      "           9       0.46      0.26      0.34       743\n",
      "          10       0.32      0.36      0.34       315\n",
      "          11       0.52      0.55      0.54      4074\n",
      "          12       0.08      0.06      0.06       362\n",
      "          13       0.19      0.14      0.16       445\n",
      "          14       0.53      0.43      0.47       213\n",
      "          15       0.14      0.10      0.11       713\n",
      "          16       0.76      0.56      0.65       627\n",
      "          17       0.33      0.20      0.25       401\n",
      "          18       0.19      0.11      0.14       152\n",
      "          19       0.00      0.00      0.00        56\n",
      "\n",
      "    accuracy                           0.43     13115\n",
      "   macro avg       0.23      0.21      0.21     13115\n",
      "weighted avg       0.41      0.43      0.41     13115\n",
      "\n"
     ]
    }
   ],
   "source": [
    "from sklearn.metrics import classification_report\n",
    "from sklearn.tree import DecisionTreeClassifier\n",
    "import numpy as np\n",
    "\n",
    "df = pd.read_pickle('../processed_data/student_trajectories.pkl')\n",
    "df_train, df_test = train_test_split(df, shuffle=True, random_state=0, stratify=df['action'], test_size=.2)\n",
    "\n",
    "clf = DecisionTreeClassifier()\n",
    "X = np.stack(df_train['state'])\n",
    "y = np.array(df_train['action'])\n",
    "clf.fit(X, y)\n",
    "\n",
    "X_test = np.stack(df_test['state'])\n",
    "y_test = np.array(df_test['action'])\n",
    "y_pred = clf.predict(X_test)\n",
    "\n",
    "print(f1_score(y_test, y_pred, average='weighted'))\n",
    "print(accuracy_score(y_test, y_pred))\n",
    "print(classification_report(y_test, y_pred, zero_division=0))"
   ],
   "metadata": {
    "collapsed": false
   }
  },
  {
   "cell_type": "code",
   "execution_count": 46,
   "outputs": [
    {
     "data": {
      "text/plain": "        episode  step                                              state  \\\n54012  100-0424    73  [1.0, 1.0, 0.0, 1.0, 1.0, 1.0, 1.0, 0.0, 1.0, ...   \n46499  100-0363   106  [1.0, 1.0, 1.0, 1.0, 1.0, 1.0, 1.0, 1.0, 1.0, ...   \n48896  100-0381    44  [1.0, 1.0, 0.0, 1.0, 1.0, 1.0, 1.0, 0.0, 0.0, ...   \n37056  100-0276    43  [1.0, 1.0, 0.0, 1.0, 1.0, 1.0, 1.0, 0.0, 1.0, ...   \n27158  100-0193    87  [1.0, 1.0, 1.0, 1.0, 1.0, 1.0, 1.0, 1.0, 1.0, ...   \n...         ...   ...                                                ...   \n40384  100-0303    68  [1.0, 1.0, 1.0, 1.0, 1.0, 1.0, 1.0, 0.0, 1.0, ...   \n43156  100-0323    20  [0.0, 0.0, 1.0, 0.0, 1.0, 0.0, 0.0, 1.0, 0.0, ...   \n36259  100-0269    59  [1.0, 1.0, 1.0, 1.0, 1.0, 1.0, 1.0, 1.0, 0.0, ...   \n44141  100-0345    26  [0.0, 1.0, 1.0, 0.0, 1.0, 0.0, 0.0, 1.0, 0.0, ...   \n19101  100-0134    49  [0.0, 1.0, 1.0, 1.0, 1.0, 1.0, 1.0, 1.0, 0.0, ...   \n\n       action  reward                                         next_state  \\\n54012      16     0.0  [1.0, 1.0, 0.0, 1.0, 1.0, 1.0, 1.0, 0.0, 1.0, ...   \n46499       9     0.0  [1.0, 1.0, 1.0, 1.0, 1.0, 1.0, 1.0, 1.0, 1.0, ...   \n48896       8     0.0  [1.0, 1.0, 0.0, 1.0, 1.0, 1.0, 1.0, 0.0, 0.0, ...   \n37056       9     0.0  [1.0, 1.0, 0.0, 1.0, 1.0, 1.0, 1.0, 0.0, 1.0, ...   \n27158      11     0.0  [1.0, 1.0, 1.0, 1.0, 1.0, 1.0, 1.0, 1.0, 1.0, ...   \n...       ...     ...                                                ...   \n40384       8     0.0  [1.0, 1.0, 1.0, 1.0, 1.0, 1.0, 1.0, 0.0, 1.0, ...   \n43156      13     0.0  [0.0, 0.0, 1.0, 0.0, 1.0, 0.0, 0.0, 1.0, 0.0, ...   \n36259      11     0.0  [1.0, 1.0, 1.0, 1.0, 1.0, 1.0, 1.0, 1.0, 0.0, ...   \n44141       0     0.0  [1.0, 1.0, 1.0, 0.0, 1.0, 0.0, 0.0, 1.0, 0.0, ...   \n19101      12     0.0  [0.0, 1.0, 1.0, 1.0, 1.0, 1.0, 1.0, 1.0, 0.0, ...   \n\n        done  nlg                                               info  pred  \n54012  False  0.0          {'extra': ('slide', False), 'end': False}    16  \n46499  False  0.0  {'extra': ('s_objtest_bananas', False), 'end':...    11  \n48896  False  0.0               {'extra': 's_obj_pie', 'end': False}    11  \n37056  False  0.0  {'extra': ('s_objtest_sandwich', False), 'end'...     8  \n27158  False  0.0  {'extra': 's_post_pathogens_mutagens', 'end': ...     8  \n...      ...  ...                                                ...   ...  \n40384  False  0.0              {'extra': 's_obj_milk', 'end': False}     8  \n43156  False  0.0                      {'extra': None, 'end': False}    13  \n36259  False  0.0    {'extra': 's_post_salmonellosis', 'end': False}     2  \n44141  False  0.0                      {'extra': None, 'end': False}     8  \n19101  False  0.0                      {'extra': None, 'end': False}    13  \n\n[13115 rows x 10 columns]",
      "text/html": "<div>\n<style scoped>\n    .dataframe tbody tr th:only-of-type {\n        vertical-align: middle;\n    }\n\n    .dataframe tbody tr th {\n        vertical-align: top;\n    }\n\n    .dataframe thead th {\n        text-align: right;\n    }\n</style>\n<table border=\"1\" class=\"dataframe\">\n  <thead>\n    <tr style=\"text-align: right;\">\n      <th></th>\n      <th>episode</th>\n      <th>step</th>\n      <th>state</th>\n      <th>action</th>\n      <th>reward</th>\n      <th>next_state</th>\n      <th>done</th>\n      <th>nlg</th>\n      <th>info</th>\n      <th>pred</th>\n    </tr>\n  </thead>\n  <tbody>\n    <tr>\n      <th>54012</th>\n      <td>100-0424</td>\n      <td>73</td>\n      <td>[1.0, 1.0, 0.0, 1.0, 1.0, 1.0, 1.0, 0.0, 1.0, ...</td>\n      <td>16</td>\n      <td>0.0</td>\n      <td>[1.0, 1.0, 0.0, 1.0, 1.0, 1.0, 1.0, 0.0, 1.0, ...</td>\n      <td>False</td>\n      <td>0.0</td>\n      <td>{'extra': ('slide', False), 'end': False}</td>\n      <td>16</td>\n    </tr>\n    <tr>\n      <th>46499</th>\n      <td>100-0363</td>\n      <td>106</td>\n      <td>[1.0, 1.0, 1.0, 1.0, 1.0, 1.0, 1.0, 1.0, 1.0, ...</td>\n      <td>9</td>\n      <td>0.0</td>\n      <td>[1.0, 1.0, 1.0, 1.0, 1.0, 1.0, 1.0, 1.0, 1.0, ...</td>\n      <td>False</td>\n      <td>0.0</td>\n      <td>{'extra': ('s_objtest_bananas', False), 'end':...</td>\n      <td>11</td>\n    </tr>\n    <tr>\n      <th>48896</th>\n      <td>100-0381</td>\n      <td>44</td>\n      <td>[1.0, 1.0, 0.0, 1.0, 1.0, 1.0, 1.0, 0.0, 0.0, ...</td>\n      <td>8</td>\n      <td>0.0</td>\n      <td>[1.0, 1.0, 0.0, 1.0, 1.0, 1.0, 1.0, 0.0, 0.0, ...</td>\n      <td>False</td>\n      <td>0.0</td>\n      <td>{'extra': 's_obj_pie', 'end': False}</td>\n      <td>11</td>\n    </tr>\n    <tr>\n      <th>37056</th>\n      <td>100-0276</td>\n      <td>43</td>\n      <td>[1.0, 1.0, 0.0, 1.0, 1.0, 1.0, 1.0, 0.0, 1.0, ...</td>\n      <td>9</td>\n      <td>0.0</td>\n      <td>[1.0, 1.0, 0.0, 1.0, 1.0, 1.0, 1.0, 0.0, 1.0, ...</td>\n      <td>False</td>\n      <td>0.0</td>\n      <td>{'extra': ('s_objtest_sandwich', False), 'end'...</td>\n      <td>8</td>\n    </tr>\n    <tr>\n      <th>27158</th>\n      <td>100-0193</td>\n      <td>87</td>\n      <td>[1.0, 1.0, 1.0, 1.0, 1.0, 1.0, 1.0, 1.0, 1.0, ...</td>\n      <td>11</td>\n      <td>0.0</td>\n      <td>[1.0, 1.0, 1.0, 1.0, 1.0, 1.0, 1.0, 1.0, 1.0, ...</td>\n      <td>False</td>\n      <td>0.0</td>\n      <td>{'extra': 's_post_pathogens_mutagens', 'end': ...</td>\n      <td>8</td>\n    </tr>\n    <tr>\n      <th>...</th>\n      <td>...</td>\n      <td>...</td>\n      <td>...</td>\n      <td>...</td>\n      <td>...</td>\n      <td>...</td>\n      <td>...</td>\n      <td>...</td>\n      <td>...</td>\n      <td>...</td>\n    </tr>\n    <tr>\n      <th>40384</th>\n      <td>100-0303</td>\n      <td>68</td>\n      <td>[1.0, 1.0, 1.0, 1.0, 1.0, 1.0, 1.0, 0.0, 1.0, ...</td>\n      <td>8</td>\n      <td>0.0</td>\n      <td>[1.0, 1.0, 1.0, 1.0, 1.0, 1.0, 1.0, 0.0, 1.0, ...</td>\n      <td>False</td>\n      <td>0.0</td>\n      <td>{'extra': 's_obj_milk', 'end': False}</td>\n      <td>8</td>\n    </tr>\n    <tr>\n      <th>43156</th>\n      <td>100-0323</td>\n      <td>20</td>\n      <td>[0.0, 0.0, 1.0, 0.0, 1.0, 0.0, 0.0, 1.0, 0.0, ...</td>\n      <td>13</td>\n      <td>0.0</td>\n      <td>[0.0, 0.0, 1.0, 0.0, 1.0, 0.0, 0.0, 1.0, 0.0, ...</td>\n      <td>False</td>\n      <td>0.0</td>\n      <td>{'extra': None, 'end': False}</td>\n      <td>13</td>\n    </tr>\n    <tr>\n      <th>36259</th>\n      <td>100-0269</td>\n      <td>59</td>\n      <td>[1.0, 1.0, 1.0, 1.0, 1.0, 1.0, 1.0, 1.0, 0.0, ...</td>\n      <td>11</td>\n      <td>0.0</td>\n      <td>[1.0, 1.0, 1.0, 1.0, 1.0, 1.0, 1.0, 1.0, 0.0, ...</td>\n      <td>False</td>\n      <td>0.0</td>\n      <td>{'extra': 's_post_salmonellosis', 'end': False}</td>\n      <td>2</td>\n    </tr>\n    <tr>\n      <th>44141</th>\n      <td>100-0345</td>\n      <td>26</td>\n      <td>[0.0, 1.0, 1.0, 0.0, 1.0, 0.0, 0.0, 1.0, 0.0, ...</td>\n      <td>0</td>\n      <td>0.0</td>\n      <td>[1.0, 1.0, 1.0, 0.0, 1.0, 0.0, 0.0, 1.0, 0.0, ...</td>\n      <td>False</td>\n      <td>0.0</td>\n      <td>{'extra': None, 'end': False}</td>\n      <td>8</td>\n    </tr>\n    <tr>\n      <th>19101</th>\n      <td>100-0134</td>\n      <td>49</td>\n      <td>[0.0, 1.0, 1.0, 1.0, 1.0, 1.0, 1.0, 1.0, 0.0, ...</td>\n      <td>12</td>\n      <td>0.0</td>\n      <td>[0.0, 1.0, 1.0, 1.0, 1.0, 1.0, 1.0, 1.0, 0.0, ...</td>\n      <td>False</td>\n      <td>0.0</td>\n      <td>{'extra': None, 'end': False}</td>\n      <td>13</td>\n    </tr>\n  </tbody>\n</table>\n<p>13115 rows × 10 columns</p>\n</div>"
     },
     "execution_count": 46,
     "metadata": {},
     "output_type": "execute_result"
    }
   ],
   "source": [
    "df_test['pred'] = y_pred\n",
    "df_test"
   ],
   "metadata": {
    "collapsed": false
   }
  },
  {
   "cell_type": "code",
   "execution_count": null,
   "outputs": [],
   "source": [],
   "metadata": {
    "collapsed": false
   }
  }
 ],
 "metadata": {
  "kernelspec": {
   "display_name": "Python 3",
   "language": "python",
   "name": "python3"
  },
  "language_info": {
   "codemirror_mode": {
    "name": "ipython",
    "version": 2
   },
   "file_extension": ".py",
   "mimetype": "text/x-python",
   "name": "python",
   "nbconvert_exporter": "python",
   "pygments_lexer": "ipython2",
   "version": "2.7.6"
  }
 },
 "nbformat": 4,
 "nbformat_minor": 0
}
