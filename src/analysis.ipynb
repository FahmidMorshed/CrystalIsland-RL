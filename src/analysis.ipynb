{
 "cells": [
  {
   "cell_type": "markdown",
   "source": [
    "# understand simulated data"
   ],
   "metadata": {
    "collapsed": false
   }
  },
  {
   "cell_type": "code",
   "execution_count": 1,
   "outputs": [],
   "source": [
    "import pandas as pd\n",
    "\n",
    "sim_s = pd.read_pickle(\"../simulated_data/seed_0_sim.pkl\")\n",
    "org_s = pd.read_pickle(\"../processed_data/student_trajectories.pkl\")\n",
    "\n",
    "sim_n = pd.read_pickle(\"../simulated_data/seed_0_sim_narr.pkl\")\n",
    "org_n = pd.read_pickle(\"../processed_data/narrative_trajectories.pkl\")"
   ],
   "metadata": {
    "collapsed": false
   }
  },
  {
   "cell_type": "code",
   "execution_count": 34,
   "outputs": [
    {
     "data": {
      "text/plain": "      episode                                             action  org_len  len\n0    100-0001  [0, 0, 1, 0, 0, 14, 9, 9, 9, 9, 9, 9, 9, 9, 0,...      560  500\n1    100-0003  [1, 1, 16, 9, 0, 9, 12, 9, 2, 2, 2, 0, 13, 6, ...      410  500\n2    100-0004  [1, 1, 1, 1, 1, 15, 9, 1, 1, 14, 9, 6, 6, 6, 1...      417  500\n3    100-0005  [1, 14, 9, 9, 9, 9, 9, 9, 14, 6, 9, 6, 6, 6, 6...      508  500\n4    100-0006  [0, 7, 7, 0, 1, 14, 9, 9, 9, 9, 9, 9, 9, 9, 6,...      386  500\n..        ...                                                ...      ...  ...\n394  100-0513  [1, 6, 6, 6, 6, 0, 14, 0, 9, 12, 9, 6, 14, 9, ...      324  500\n395  100-0515  [1, 0, 14, 9, 9, 9, 9, 9, 6, 1, 3, 10, 3, 10, ...      401  500\n396  100-0516  [1, 15, 9, 6, 6, 6, 6, 6, 1, 0, 1, 1, 13, 13, ...      410  500\n397  100-0827  [1, 0, 14, 9, 1, 6, 1, 1, 14, 9, 9, 9, 9, 9, 9...      400  500\n398  100-0828  [1, 6, 14, 9, 9, 9, 9, 9, 6, 1, 6, 6, 1, 6, 0,...      519  500\n\n[399 rows x 4 columns]",
      "text/html": "<div>\n<style scoped>\n    .dataframe tbody tr th:only-of-type {\n        vertical-align: middle;\n    }\n\n    .dataframe tbody tr th {\n        vertical-align: top;\n    }\n\n    .dataframe thead th {\n        text-align: right;\n    }\n</style>\n<table border=\"1\" class=\"dataframe\">\n  <thead>\n    <tr style=\"text-align: right;\">\n      <th></th>\n      <th>episode</th>\n      <th>action</th>\n      <th>org_len</th>\n      <th>len</th>\n    </tr>\n  </thead>\n  <tbody>\n    <tr>\n      <th>0</th>\n      <td>100-0001</td>\n      <td>[0, 0, 1, 0, 0, 14, 9, 9, 9, 9, 9, 9, 9, 9, 0,...</td>\n      <td>560</td>\n      <td>500</td>\n    </tr>\n    <tr>\n      <th>1</th>\n      <td>100-0003</td>\n      <td>[1, 1, 16, 9, 0, 9, 12, 9, 2, 2, 2, 0, 13, 6, ...</td>\n      <td>410</td>\n      <td>500</td>\n    </tr>\n    <tr>\n      <th>2</th>\n      <td>100-0004</td>\n      <td>[1, 1, 1, 1, 1, 15, 9, 1, 1, 14, 9, 6, 6, 6, 1...</td>\n      <td>417</td>\n      <td>500</td>\n    </tr>\n    <tr>\n      <th>3</th>\n      <td>100-0005</td>\n      <td>[1, 14, 9, 9, 9, 9, 9, 9, 14, 6, 9, 6, 6, 6, 6...</td>\n      <td>508</td>\n      <td>500</td>\n    </tr>\n    <tr>\n      <th>4</th>\n      <td>100-0006</td>\n      <td>[0, 7, 7, 0, 1, 14, 9, 9, 9, 9, 9, 9, 9, 9, 6,...</td>\n      <td>386</td>\n      <td>500</td>\n    </tr>\n    <tr>\n      <th>...</th>\n      <td>...</td>\n      <td>...</td>\n      <td>...</td>\n      <td>...</td>\n    </tr>\n    <tr>\n      <th>394</th>\n      <td>100-0513</td>\n      <td>[1, 6, 6, 6, 6, 0, 14, 0, 9, 12, 9, 6, 14, 9, ...</td>\n      <td>324</td>\n      <td>500</td>\n    </tr>\n    <tr>\n      <th>395</th>\n      <td>100-0515</td>\n      <td>[1, 0, 14, 9, 9, 9, 9, 9, 6, 1, 3, 10, 3, 10, ...</td>\n      <td>401</td>\n      <td>500</td>\n    </tr>\n    <tr>\n      <th>396</th>\n      <td>100-0516</td>\n      <td>[1, 15, 9, 6, 6, 6, 6, 6, 1, 0, 1, 1, 13, 13, ...</td>\n      <td>410</td>\n      <td>500</td>\n    </tr>\n    <tr>\n      <th>397</th>\n      <td>100-0827</td>\n      <td>[1, 0, 14, 9, 1, 6, 1, 1, 14, 9, 9, 9, 9, 9, 9...</td>\n      <td>400</td>\n      <td>500</td>\n    </tr>\n    <tr>\n      <th>398</th>\n      <td>100-0828</td>\n      <td>[1, 6, 14, 9, 9, 9, 9, 9, 6, 1, 6, 6, 1, 6, 0,...</td>\n      <td>519</td>\n      <td>500</td>\n    </tr>\n  </tbody>\n</table>\n<p>399 rows × 4 columns</p>\n</div>"
     },
     "execution_count": 34,
     "metadata": {},
     "output_type": "execute_result"
    }
   ],
   "source": [
    "# static features will remain the same. so will the initial states.\n",
    "# the only thing that we need to look through is the actions taken in each tune\n",
    "\n",
    "d = org_s.groupby('episode')['action'].apply(list).reset_index()\n",
    "d['org_len'] = d.apply(lambda x: len(x['action']), axis=1)\n",
    "d['action'] = d.apply(lambda x: x['action'][:500] if x['org_len']>=500 \\\n",
    "    else x['action'] + [0]*(500 - len(x['action'])), axis=1)\n",
    "d['len'] = d.apply(lambda x: len(x['action']), axis=1)\n",
    "d"
   ],
   "metadata": {
    "collapsed": false
   }
  },
  {
   "cell_type": "code",
   "execution_count": 35,
   "outputs": [
    {
     "data": {
      "text/plain": "     episode                                             action  org_len  len\n0          0  [8, 0, 0, 8, 0, 9, 9, 9, 4, 0, 14, 8, 8, 9, 9,...      500  500\n1          1  [0, 0, 0, 9, 9, 14, 9, 0, 8, 8, 6, 9, 8, 14, 9...      500  500\n2        100  [1, 8, 8, 8, 9, 8, 10, 6, 10, 8, 6, 11, 12, 9,...      500  500\n3       1000  [9, 0, 14, 0, 0, 8, 0, 0, 0, 8, 8, 0, 12, 9, 8...      500  500\n4       1001  [13, 10, 8, 6, 1, 8, 0, 8, 10, 8, 14, 9, 9, 9,...      500  500\n...      ...                                                ...      ...  ...\n4689     995  [0, 8, 9, 8, 8, 10, 8, 0, 9, 8, 0, 0, 9, 9, 8,...      500  500\n4690     996  [0, 0, 0, 9, 0, 0, 2, 8, 0, 8, 8, 9, 8, 9, 9, ...      500  500\n4691     997  [0, 0, 8, 8, 0, 8, 9, 8, 10, 8, 10, 9, 1, 0, 8...      500  500\n4692     998  [6, 0, 7, 8, 0, 8, 8, 10, 8, 9, 8, 8, 13, 0, 8...      500  500\n4693     999  [6, 12, 9, 8, 8, 8, 9, 9, 0, 9, 17, 9, 8, 0, 9...      500  500\n\n[4694 rows x 4 columns]",
      "text/html": "<div>\n<style scoped>\n    .dataframe tbody tr th:only-of-type {\n        vertical-align: middle;\n    }\n\n    .dataframe tbody tr th {\n        vertical-align: top;\n    }\n\n    .dataframe thead th {\n        text-align: right;\n    }\n</style>\n<table border=\"1\" class=\"dataframe\">\n  <thead>\n    <tr style=\"text-align: right;\">\n      <th></th>\n      <th>episode</th>\n      <th>action</th>\n      <th>org_len</th>\n      <th>len</th>\n    </tr>\n  </thead>\n  <tbody>\n    <tr>\n      <th>0</th>\n      <td>0</td>\n      <td>[8, 0, 0, 8, 0, 9, 9, 9, 4, 0, 14, 8, 8, 9, 9,...</td>\n      <td>500</td>\n      <td>500</td>\n    </tr>\n    <tr>\n      <th>1</th>\n      <td>1</td>\n      <td>[0, 0, 0, 9, 9, 14, 9, 0, 8, 8, 6, 9, 8, 14, 9...</td>\n      <td>500</td>\n      <td>500</td>\n    </tr>\n    <tr>\n      <th>2</th>\n      <td>100</td>\n      <td>[1, 8, 8, 8, 9, 8, 10, 6, 10, 8, 6, 11, 12, 9,...</td>\n      <td>500</td>\n      <td>500</td>\n    </tr>\n    <tr>\n      <th>3</th>\n      <td>1000</td>\n      <td>[9, 0, 14, 0, 0, 8, 0, 0, 0, 8, 8, 0, 12, 9, 8...</td>\n      <td>500</td>\n      <td>500</td>\n    </tr>\n    <tr>\n      <th>4</th>\n      <td>1001</td>\n      <td>[13, 10, 8, 6, 1, 8, 0, 8, 10, 8, 14, 9, 9, 9,...</td>\n      <td>500</td>\n      <td>500</td>\n    </tr>\n    <tr>\n      <th>...</th>\n      <td>...</td>\n      <td>...</td>\n      <td>...</td>\n      <td>...</td>\n    </tr>\n    <tr>\n      <th>4689</th>\n      <td>995</td>\n      <td>[0, 8, 9, 8, 8, 10, 8, 0, 9, 8, 0, 0, 9, 9, 8,...</td>\n      <td>500</td>\n      <td>500</td>\n    </tr>\n    <tr>\n      <th>4690</th>\n      <td>996</td>\n      <td>[0, 0, 0, 9, 0, 0, 2, 8, 0, 8, 8, 9, 8, 9, 9, ...</td>\n      <td>500</td>\n      <td>500</td>\n    </tr>\n    <tr>\n      <th>4691</th>\n      <td>997</td>\n      <td>[0, 0, 8, 8, 0, 8, 9, 8, 10, 8, 10, 9, 1, 0, 8...</td>\n      <td>500</td>\n      <td>500</td>\n    </tr>\n    <tr>\n      <th>4692</th>\n      <td>998</td>\n      <td>[6, 0, 7, 8, 0, 8, 8, 10, 8, 9, 8, 8, 13, 0, 8...</td>\n      <td>500</td>\n      <td>500</td>\n    </tr>\n    <tr>\n      <th>4693</th>\n      <td>999</td>\n      <td>[6, 12, 9, 8, 8, 8, 9, 9, 0, 9, 17, 9, 8, 0, 9...</td>\n      <td>500</td>\n      <td>500</td>\n    </tr>\n  </tbody>\n</table>\n<p>4694 rows × 4 columns</p>\n</div>"
     },
     "execution_count": 35,
     "metadata": {},
     "output_type": "execute_result"
    }
   ],
   "source": [
    "d2 = sim_s.groupby('episode')['action'].apply(list).reset_index()\n",
    "d2['org_len'] = d2.apply(lambda x: len(x['action']), axis=1)\n",
    "d2['action'] = d2.apply(lambda x: x['action'][:500] if x['org_len']>=500 \\\n",
    "    else x['action'] + [0]*(500 - len(x['action'])), axis=1)\n",
    "d2['len'] = d2.apply(lambda x: len(x['action']), axis=1)\n",
    "d2\n"
   ],
   "metadata": {
    "collapsed": false
   }
  },
  {
   "cell_type": "code",
   "execution_count": 94,
   "outputs": [
    {
     "name": "stdout",
     "output_type": "stream",
     "text": [
      "Position 100 | Action 1 | Org 15.49 | Sim 1.4\n",
      "Heavy action 1 with percentage 15.49 | sim 1.4\n",
      "Position 100 | Action 6 | Org 15.35 | Sim 4.05\n",
      "Heavy action 6 with percentage 15.35 | sim 4.05\n",
      "Position 100 | Action 8 | Org 4.65 | Sim 26.37\n",
      "Heavy action 9 with percentage 31.33 | sim 23.02\n",
      "Position 200 | Action 1 | Org 13.93 | Sim 1.39\n",
      "Heavy action 1 with percentage 13.93 | sim 1.39\n",
      "Position 200 | Action 3 | Org 11.34 | Sim 0.54\n",
      "Heavy action 3 with percentage 11.34 | sim 0.54\n",
      "Heavy action 6 with percentage 11.36 | sim 3.11\n",
      "Position 200 | Action 8 | Org 6.05 | Sim 23.05\n",
      "Heavy action 9 with percentage 20.77 | sim 18.08\n",
      "Heavy action 10 with percentage 11.26 | sim 5.31\n",
      "Position 200 | Action 14 | Org 2.83 | Sim 16.53\n",
      "Position 300 | Action 1 | Org 12.84 | Sim 1.32\n",
      "Heavy action 1 with percentage 12.84 | sim 1.32\n",
      "Position 300 | Action 3 | Org 10.84 | Sim 0.61\n",
      "Heavy action 3 with percentage 10.84 | sim 0.61\n",
      "Heavy action 6 with percentage 10.78 | sim 2.95\n",
      "Position 300 | Action 8 | Org 9.4 | Sim 24.17\n",
      "Heavy action 9 with percentage 15.51 | sim 16.64\n",
      "Heavy action 10 with percentage 10.86 | sim 4.69\n",
      "Position 300 | Action 14 | Org 2.56 | Sim 16.0\n",
      "Position 400 | Action 0 | Org 23.64 | Sim 7.02\n",
      "Heavy action 0 with percentage 23.64 | sim 7.02\n",
      "Position 400 | Action 8 | Org 13.49 | Sim 24.09\n",
      "Heavy action 8 with percentage 13.49 | sim 24.09\n",
      "Heavy action 9 with percentage 10.13 | sim 16.06\n",
      "Position 400 | Action 14 | Org 1.8 | Sim 15.9\n",
      "Position 500 | Action 0 | Org 53.2 | Sim 7.02\n",
      "Heavy action 0 with percentage 53.2 | sim 7.02\n",
      "Position 500 | Action 8 | Org 9.34 | Sim 24.1\n",
      "Position 500 | Action 14 | Org 1.19 | Sim 15.5\n"
     ]
    }
   ],
   "source": [
    "from collections import Counter\n",
    "\n",
    "combine = 99\n",
    "combine_count = 0\n",
    "len_org = len(d)\n",
    "len_sim = len(d2)\n",
    "\n",
    "actions_org = []\n",
    "actions_sim = []\n",
    "for position in range(500):\n",
    "    if combine_count < combine:\n",
    "        org = list(d.apply(lambda x: x['action'][position], axis=1).values)\n",
    "        sim = list(d2.apply(lambda x: x['action'][position], axis=1).values)\n",
    "        actions_org += org\n",
    "        actions_sim += sim\n",
    "        combine_count += 1\n",
    "        continue\n",
    "    else:\n",
    "        combine_count = 0\n",
    "\n",
    "    act_org = Counter(actions_org)\n",
    "    for act, item in act_org.items():\n",
    "        act_org[act] = round(item/(len_org*combine)*100.00, 2)\n",
    "    for act in range(18):\n",
    "        act_org[act] = act_org.get(act, 0.0)\n",
    "    act_org = sorted(act_org.items())\n",
    "\n",
    "    act_sim = Counter(actions_sim)\n",
    "    for act, item in act_sim.items():\n",
    "        act_sim[act] = round(item/(len_sim*combine)*100.0, 2)\n",
    "    for act in range(18):\n",
    "        act_sim[act] = act_sim.get(act, 0.0)\n",
    "    act_sim = sorted(act_sim.items())\n",
    "\n",
    "    for action, (org, sim) in enumerate(zip(act_org, act_sim)):\n",
    "        if abs(org[1] - sim[1]) > 10.0:\n",
    "            print(\"Position {0} | Action {1} | Org {2} | Sim {3}\".format(position+1, action, org[1], sim[1]))\n",
    "        if org[1]>10:\n",
    "            print(\"Heavy action {0} with percentage {1} | sim {2}\".format( action, org[1], sim[1]))\n",
    "    actions_org = []\n",
    "    actions_sim = []"
   ],
   "metadata": {
    "collapsed": false
   }
  },
  {
   "cell_type": "code",
   "execution_count": null,
   "outputs": [],
   "source": [],
   "metadata": {
    "collapsed": false
   }
  }
 ],
 "metadata": {
  "kernelspec": {
   "display_name": "Python 3",
   "language": "python",
   "name": "python3"
  },
  "language_info": {
   "codemirror_mode": {
    "name": "ipython",
    "version": 2
   },
   "file_extension": ".py",
   "mimetype": "text/x-python",
   "name": "python",
   "nbconvert_exporter": "python",
   "pygments_lexer": "ipython2",
   "version": "2.7.6"
  }
 },
 "nbformat": 4,
 "nbformat_minor": 0
}
